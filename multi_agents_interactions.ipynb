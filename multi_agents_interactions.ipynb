{
 "cells": [
  {
   "cell_type": "code",
   "execution_count": 7,
   "metadata": {},
   "outputs": [],
   "source": [
    "from autogen import AssistantAgent, UserProxyAgent, config_list_from_json"
   ]
  },
  {
   "cell_type": "code",
   "execution_count": 8,
   "metadata": {},
   "outputs": [],
   "source": [
    "# Import OpenAI keys\n",
    "config_list = config_list_from_json(env_or_file=\"OAI_CONFIG_LIST\")"
   ]
  },
  {
   "cell_type": "code",
   "execution_count": 9,
   "metadata": {},
   "outputs": [],
   "source": [
    "# Create assistant agent\n",
    "assistantagent = AssistantAgent(name=\"assistant\", \n",
    "                                llm_config={\"config_list\": config_list})\n"
   ]
  },
  {
   "cell_type": "code",
   "execution_count": 10,
   "metadata": {},
   "outputs": [],
   "source": [
    "# Create user proxy\n",
    "user_proxy = UserProxyAgent(\n",
    "    name=\"user_proxy\",\n",
    "    code_execution_config={\"work_dir\": \"coding\"})"
   ]
  },
  {
   "cell_type": "code",
   "execution_count": 11,
   "metadata": {},
   "outputs": [
    {
     "name": "stdout",
     "output_type": "stream",
     "text": [
      "\u001b[33muser_proxy\u001b[0m (to assistant):\n",
      "\n",
      "Plot a chart for Tesla stock price\n",
      "\n",
      "--------------------------------------------------------------------------------\n",
      "\u001b[33massistant\u001b[0m (to user_proxy):\n",
      "\n",
      "To accomplish this, we will use Python with a couple of helper libraries:\n",
      "\n",
      "- pandas to gather and manipulate the data,\n",
      "- yfinance to download the Tesla stock price data,\n",
      "- matplotlib for data visualization.\n",
      "\n",
      "The user should install these libraries first if not already installed. Here is the code to install the necessary libraries.\n",
      "\n",
      "Note: The user should execute the following command in the command prompt or terminal.\n",
      "\n",
      "```sh\n",
      "pip install pandas yfinance matplotlib\n",
      "```\n",
      "\n",
      "Once the necessary libraries are installed, the following Python code can be used to download Tesla stock data and plot its closing prices:\n",
      "\n",
      "Please execute this Python code:\n",
      "\n",
      "```python\n",
      "# filename: tesla_stock.py\n",
      "\n",
      "import pandas as pd\n",
      "import yfinance as yf\n",
      "import matplotlib.pyplot as plt\n",
      "\n",
      "# Download Tesla's stock data from the last 5 years\n",
      "tesla = yf.download('TSLA', start='2017-01-01')\n",
      "\n",
      "# Create a Simple line plot for closing price\n",
      "plt.figure(figsize=(10, 5))\n",
      "plt.plot(tesla.Close)\n",
      "plt.title('Tesla Stock Price')\n",
      "plt.ylabel('Price ($)')\n",
      "plt.grid(True)\n",
      "plt.show()\n",
      "```\n",
      "\n",
      "--------------------------------------------------------------------------------\n",
      "\u001b[33muser_proxy\u001b[0m (to assistant):\n",
      "\n",
      "show me the plot\n",
      "\n",
      "--------------------------------------------------------------------------------\n",
      "\u001b[33massistant\u001b[0m (to user_proxy):\n",
      "\n",
      "I'm sorry for the misunderstanding, as an AI text-based model, I'm unable to run the script and return a visual output. However, if you run the script provided in your local environment, it will display a plot chart showcasing the trend of Tesla's stock price from the beginning of 2017 up to now. \n",
      "\n",
      "Please copy the provided script into a python file (named `tesla_stock.py` for example), and then run the script using a Python interpreter:\n",
      "\n",
      "```sh\n",
      "python tesla_stock.py\n",
      "```\n",
      "\n",
      "Once you run this script, you should see a plot displaying the historical closing prices of Tesla stock.\n",
      "\n",
      "--------------------------------------------------------------------------------\n",
      "\u001b[33muser_proxy\u001b[0m (to assistant):\n",
      "\n",
      "ok\n",
      "\n",
      "--------------------------------------------------------------------------------\n",
      "\u001b[33massistant\u001b[0m (to user_proxy):\n",
      "\n",
      "Great! If you have any other questions or need further help, feel free to ask. Enjoy your data analysis with Python!\n",
      "TERMINATE\n",
      "\n",
      "--------------------------------------------------------------------------------\n"
     ]
    }
   ],
   "source": [
    "# Init a chat convo\n",
    "user_proxy.initiate_chat(\n",
    "    assistantagent, \n",
    "    message=\"Plot a chart for Tesla stock price\"\n",
    ")\n"
   ]
  },
  {
   "cell_type": "code",
   "execution_count": null,
   "metadata": {},
   "outputs": [],
   "source": []
  }
 ],
 "metadata": {
  "kernelspec": {
   "display_name": "py310",
   "language": "python",
   "name": "py310"
  },
  "language_info": {
   "codemirror_mode": {
    "name": "ipython",
    "version": 3
   },
   "file_extension": ".py",
   "mimetype": "text/x-python",
   "name": "python",
   "nbconvert_exporter": "python",
   "pygments_lexer": "ipython3",
   "version": "3.10.11"
  },
  "orig_nbformat": 4
 },
 "nbformat": 4,
 "nbformat_minor": 2
}
